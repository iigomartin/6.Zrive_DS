{
 "cells": [
  {
   "cell_type": "markdown",
   "metadata": {},
   "source": [
    "# 1.Understanding Problem Space"
   ]
  },
  {
   "cell_type": "code",
   "execution_count": 1,
   "metadata": {},
   "outputs": [],
   "source": [
    "import pandas as pd\n",
    "import numpy as np\n",
    "#from io import BytesIO\n",
    "from datetime import datetime\n",
    "import matplotlib.pyplot as plt\n",
    "from collections import Counter"
   ]
  },
  {
   "cell_type": "code",
   "execution_count": 2,
   "metadata": {},
   "outputs": [],
   "source": [
    "#We charge the dataframes\n",
    "\n",
    "abandoned_carts = pd.read_parquet(\"abandoned_carts.parquet\")\n",
    "inventory = pd.read_parquet(\"inventory.parquet\")\n",
    "orders = pd.read_parquet(\"orders.parquet\")\n",
    "regulars = pd.read_parquet(\"regulars.parquet\")\n",
    "users = pd.read_parquet(\"users.parquet\")"
   ]
  },
  {
   "cell_type": "code",
   "execution_count": 3,
   "metadata": {},
   "outputs": [
    {
     "name": "stdout",
     "output_type": "stream",
     "text": [
      "                   id                                            user_id  \\\n",
      "0      12858560217220  5c4e5953f13ddc3bc9659a3453356155e5efe4739d7a2b...   \n",
      "13     20352449839236  9d6187545c005d39e44d0456d87790db18611d7c7379bd...   \n",
      "45     20478401413252  e83fb0273d70c37a2968fee107113698fd4f389c442c0b...   \n",
      "50     20481783103620  10c42e10e530284b7c7c50f3a23a98726d5747b8128084...   \n",
      "52     20485321687172  d9989439524b3f6fc4f41686d043f315fb408b954d6153...   \n",
      "...               ...                                                ...   \n",
      "70036  22233840976004  2e989bfdec87ef55ea464a529f323ff53dad2a2fc48655...   \n",
      "70041  22233843171460  b2d867b982b14ca517f27c4ced727c8a25c01b96ebbd96...   \n",
      "70043  22233843531908  220aafc0749f209b3f0f7cfe4134a5136815d48f0bbd9a...   \n",
      "70049  22233846218884  a4da55d51052411e54f98e1b90b19843121866abeaea76...   \n",
      "70050  22233846317188  c0e740ecabe7bd19eaed35b5ea9be7bc80c15f32124712...   \n",
      "\n",
      "               created_at                                         variant_id  \n",
      "0     2020-05-20 13:53:24  [33826459287684, 33826457616516, 3366719212762...  \n",
      "13    2021-06-27 05:24:13  [34415988179076, 34037940158596, 3450282236326...  \n",
      "45    2021-07-18 08:23:49  [34543001337988, 34037939372164, 3411360609088...  \n",
      "50    2021-07-18 21:29:36  [33667268116612, 34037940224132, 3443605520397...  \n",
      "52    2021-07-19 12:17:05   [33667268083844, 34284950454404, 33973246886020]  \n",
      "...                   ...                                                ...  \n",
      "70036 2022-03-13 14:11:15                   [34284950192260, 39466620911748]  \n",
      "70041 2022-03-13 14:11:36                   [39536607395972, 39506484461700]  \n",
      "70043 2022-03-13 14:11:41                   [39482337624196, 39544243650692]  \n",
      "70049 2022-03-13 14:12:09  [34415989325956, 33667297017988, 3948233762419...  \n",
      "70050 2022-03-13 14:12:10   [34284950519940, 39459281174660, 39482337558660]  \n",
      "\n",
      "[5457 rows x 4 columns]\n"
     ]
    }
   ],
   "source": [
    "#We start analysing abandoned_carts field by field.\n",
    "#It is noticeable how the majority of the elements of the dataframe are missing (we have \n",
    "# 5000 out of 70000), so the ideas extracted have to be taken with a pinch of salt. \n",
    "\n",
    "print(abandoned_carts)"
   ]
  },
  {
   "cell_type": "code",
   "execution_count": 5,
   "metadata": {},
   "outputs": [
    {
     "data": {
      "text/plain": [
       "id            0\n",
       "user_id       0\n",
       "created_at    0\n",
       "variant_id    0\n",
       "dtype: int64"
      ]
     },
     "execution_count": 5,
     "metadata": {},
     "output_type": "execute_result"
    }
   ],
   "source": [
    "#On a superficial level, there are no nulls, so we move forward\n",
    "\n",
    "abandoned_carts.isnull().sum()"
   ]
  },
  {
   "cell_type": "code",
   "execution_count": 6,
   "metadata": {},
   "outputs": [
    {
     "name": "stdout",
     "output_type": "stream",
     "text": [
      "5457\n"
     ]
    }
   ],
   "source": [
    "#abandoned_carts id: unique id value for each order / purchase. \n",
    "\n",
    "ac_id_unique = set(abandoned_carts[\"id\"])\n",
    "print(len(ac_id_unique)) #matches with rows read before"
   ]
  },
  {
   "cell_type": "code",
   "execution_count": 7,
   "metadata": {},
   "outputs": [
    {
     "name": "stdout",
     "output_type": "stream",
     "text": [
      "3439\n"
     ]
    }
   ],
   "source": [
    "#user id: unique id of the users that have abandoned a cart. \n",
    "#Column has duplicates, so some users have abandoned more than one cart. \n",
    "\n",
    "ac_user_id_unique = set(abandoned_carts[\"user_id\"])\n",
    "print(len(ac_user_id_unique))"
   ]
  },
  {
   "cell_type": "code",
   "execution_count": 8,
   "metadata": {},
   "outputs": [
    {
     "name": "stdout",
     "output_type": "stream",
     "text": [
      "{10: 1, 9: 1, 6: 6, 7: 8, 5: 23, 4: 51, 3: 238, 2: 1202, 1: 1909}\n"
     ]
    }
   ],
   "source": [
    "#Majority of users have abandoned 1 - 2 carts. The number of people abandoning carts reduces with the\n",
    "#frequency; not many of them abandon from 5 carts onwards. \n",
    "\n",
    "ac_user_id = Counter(abandoned_carts[\"user_id\"].tolist())\n",
    "ac_number_peruser=[]\n",
    "for key in ac_user_id:\n",
    "    ac_number_peruser.append(ac_user_id[key])\n",
    "ac_number_peruser=Counter(ac_number_peruser)\n",
    "ac_number_peruser=dict(sorted(ac_number_peruser.items(), key=lambda item: item[1]))\n",
    "print(ac_number_peruser)"
   ]
  },
  {
   "cell_type": "code",
   "execution_count": 10,
   "metadata": {},
   "outputs": [
    {
     "data": {
      "text/html": [
       "<div>\n",
       "<style scoped>\n",
       "    .dataframe tbody tr th:only-of-type {\n",
       "        vertical-align: middle;\n",
       "    }\n",
       "\n",
       "    .dataframe tbody tr th {\n",
       "        vertical-align: top;\n",
       "    }\n",
       "\n",
       "    .dataframe thead th {\n",
       "        text-align: right;\n",
       "    }\n",
       "</style>\n",
       "<table border=\"1\" class=\"dataframe\">\n",
       "  <thead>\n",
       "    <tr style=\"text-align: right;\">\n",
       "      <th></th>\n",
       "      <th>Year</th>\n",
       "      <th>Month</th>\n",
       "      <th>Day</th>\n",
       "      <th>Hour</th>\n",
       "    </tr>\n",
       "  </thead>\n",
       "  <tbody>\n",
       "    <tr>\n",
       "      <th>0</th>\n",
       "      <td>2020</td>\n",
       "      <td>5</td>\n",
       "      <td>20</td>\n",
       "      <td>13</td>\n",
       "    </tr>\n",
       "    <tr>\n",
       "      <th>1</th>\n",
       "      <td>2021</td>\n",
       "      <td>6</td>\n",
       "      <td>27</td>\n",
       "      <td>5</td>\n",
       "    </tr>\n",
       "    <tr>\n",
       "      <th>2</th>\n",
       "      <td>2021</td>\n",
       "      <td>7</td>\n",
       "      <td>18</td>\n",
       "      <td>8</td>\n",
       "    </tr>\n",
       "    <tr>\n",
       "      <th>3</th>\n",
       "      <td>2021</td>\n",
       "      <td>7</td>\n",
       "      <td>18</td>\n",
       "      <td>21</td>\n",
       "    </tr>\n",
       "    <tr>\n",
       "      <th>4</th>\n",
       "      <td>2021</td>\n",
       "      <td>7</td>\n",
       "      <td>19</td>\n",
       "      <td>12</td>\n",
       "    </tr>\n",
       "    <tr>\n",
       "      <th>...</th>\n",
       "      <td>...</td>\n",
       "      <td>...</td>\n",
       "      <td>...</td>\n",
       "      <td>...</td>\n",
       "    </tr>\n",
       "    <tr>\n",
       "      <th>5452</th>\n",
       "      <td>2022</td>\n",
       "      <td>3</td>\n",
       "      <td>13</td>\n",
       "      <td>14</td>\n",
       "    </tr>\n",
       "    <tr>\n",
       "      <th>5453</th>\n",
       "      <td>2022</td>\n",
       "      <td>3</td>\n",
       "      <td>13</td>\n",
       "      <td>14</td>\n",
       "    </tr>\n",
       "    <tr>\n",
       "      <th>5454</th>\n",
       "      <td>2022</td>\n",
       "      <td>3</td>\n",
       "      <td>13</td>\n",
       "      <td>14</td>\n",
       "    </tr>\n",
       "    <tr>\n",
       "      <th>5455</th>\n",
       "      <td>2022</td>\n",
       "      <td>3</td>\n",
       "      <td>13</td>\n",
       "      <td>14</td>\n",
       "    </tr>\n",
       "    <tr>\n",
       "      <th>5456</th>\n",
       "      <td>2022</td>\n",
       "      <td>3</td>\n",
       "      <td>13</td>\n",
       "      <td>14</td>\n",
       "    </tr>\n",
       "  </tbody>\n",
       "</table>\n",
       "<p>5457 rows × 4 columns</p>\n",
       "</div>"
      ],
      "text/plain": [
       "      Year  Month  Day  Hour\n",
       "0     2020      5   20    13\n",
       "1     2021      6   27     5\n",
       "2     2021      7   18     8\n",
       "3     2021      7   18    21\n",
       "4     2021      7   19    12\n",
       "...    ...    ...  ...   ...\n",
       "5452  2022      3   13    14\n",
       "5453  2022      3   13    14\n",
       "5454  2022      3   13    14\n",
       "5455  2022      3   13    14\n",
       "5456  2022      3   13    14\n",
       "\n",
       "[5457 rows x 4 columns]"
      ]
     },
     "execution_count": 10,
     "metadata": {},
     "output_type": "execute_result"
    }
   ],
   "source": [
    "#created_at: when the basket was generated. We can perform some data aggrupations to see if there is\n",
    "#a seasonality on the cancellations, or if they were done during one specific year.\n",
    "\n",
    "created_at_date_separated = pd.DataFrame(columns=['Year','Month','Day','Hour'])\n",
    "for element in abandoned_carts[\"created_at\"]:\n",
    "    created_at_date_separated.loc[len(created_at_date_separated)]={'Year': element.year, 'Month':element.month,'Day':element.day,'Hour':element.hour}\n",
    "created_at_date_separated\n",
    "    "
   ]
  },
  {
   "cell_type": "code",
   "execution_count": 11,
   "metadata": {},
   "outputs": [
    {
     "name": "stdout",
     "output_type": "stream",
     "text": [
      "Year  Month\n",
      "2020  5           1\n",
      "2021  6           1\n",
      "      7          25\n",
      "      8         135\n",
      "      9         248\n",
      "      10        560\n",
      "      11        988\n",
      "      12        871\n",
      "2022  1        1318\n",
      "      2         989\n",
      "      3         321\n",
      "Name: Day, dtype: int64\n"
     ]
    }
   ],
   "source": [
    "#Somehow, the majority of the cancellations are accummulated during autumn-winter, whereas in \n",
    "#spring - summer there are the lowest numbers.\n",
    "\n",
    "print(created_at_date_separated.groupby(['Year','Month'])['Day'].count())\n"
   ]
  },
  {
   "cell_type": "code",
   "execution_count": 12,
   "metadata": {},
   "outputs": [
    {
     "data": {
      "text/plain": [
       "<BarContainer object of 31 artists>"
      ]
     },
     "execution_count": 12,
     "metadata": {},
     "output_type": "execute_result"
    },
    {
     "data": {
      "image/png": "[encoded data removed]",
      "text/plain": [
       "<Figure size 640x480 with 1 Axes>"
      ]
     },
     "metadata": {},
     "output_type": "display_data"
    }
   ],
   "source": [
    "#Except maybe from outlier 21st, all of the days the cancellation rate is similar\n",
    "\n",
    "plt.bar(range(1,32),created_at_date_separated.groupby(['Day'])['Month'].count())"
   ]
  },
  {
   "cell_type": "code",
   "execution_count": 13,
   "metadata": {},
   "outputs": [
    {
     "data": {
      "text/plain": [
       "<BarContainer object of 24 artists>"
      ]
     },
     "execution_count": 13,
     "metadata": {},
     "output_type": "execute_result"
    },
    {
     "data": {
      "image/png": "[encoded data removed]",
      "text/plain": [
       "<Figure size 640x480 with 1 Axes>"
      ]
     },
     "metadata": {},
     "output_type": "display_data"
    }
   ],
   "source": [
    "#The fact that not many baskets are cancelled at night implies how this service is not international,\n",
    "#kind of restricted to limited timezones. The peak hours of cancellations are the standard ones: first\n",
    "#thing in the morning (9.00), mid-morning (around 11.00) and first thing in the afternoon (15.00)\n",
    "\n",
    "plt.bar(range(1,25),created_at_date_separated.groupby(['Hour'])['Month'].count())"
   ]
  },
  {
   "cell_type": "code",
   "execution_count": 14,
   "metadata": {},
   "outputs": [],
   "source": [
    "#variant id: not entirely defined field by itself, but with inventory we discover that it is the id\n",
    "#of the product in the basket"
   ]
  },
  {
   "cell_type": "code",
   "execution_count": 15,
   "metadata": {},
   "outputs": [
    {
     "name": "stdout",
     "output_type": "stream",
     "text": [
      "          variant_id  price  compare_at_price          vendor  \\\n",
      "0     39587297165444   3.09              3.15           heinz   \n",
      "1     34370361229444   4.99              5.50   whogivesacrap   \n",
      "2     34284951863428   3.69              3.99          plenty   \n",
      "3     33667283583108   1.79              1.99  thecheekypanda   \n",
      "4     33803537973380   1.99              2.09         colgate   \n",
      "...              ...    ...               ...             ...   \n",
      "1728  39539419218052   4.99              5.99          bother   \n",
      "1729  34534187368580   4.69              5.49    tommeetippee   \n",
      "1730  33826439594116  15.39             17.15          colief   \n",
      "1731  33667214508164  19.49             21.65      enterosgel   \n",
      "1732  33667214704772  31.99             34.60         eskimo3   \n",
      "\n",
      "                         product_type  \\\n",
      "0                condiments-dressings   \n",
      "1     toilet-roll-kitchen-roll-tissue   \n",
      "2     toilet-roll-kitchen-roll-tissue   \n",
      "3     toilet-roll-kitchen-roll-tissue   \n",
      "4                              dental   \n",
      "...                               ...   \n",
      "1728                                    \n",
      "1729                 baby-accessories   \n",
      "1730                 baby-accessories   \n",
      "1731             medicines-treatments   \n",
      "1732           superfoods-supplements   \n",
      "\n",
      "                                            tags  \n",
      "0                          [table-sauces, vegan]  \n",
      "1                    [b-corp, eco, toilet-rolls]  \n",
      "2                                 [kitchen-roll]  \n",
      "3     [b-corp, cruelty-free, eco, tissue, vegan]  \n",
      "4                           [dental-accessories]  \n",
      "...                                          ...  \n",
      "1728                        [household-sundries]  \n",
      "1729                           [feeding-weaning]  \n",
      "1730                           [feeding-weaning]  \n",
      "1731                    [discontinue, first-aid]  \n",
      "1732         [discontinue, vitamins-supplements]  \n",
      "\n",
      "[1733 rows x 6 columns]\n"
     ]
    }
   ],
   "source": [
    "print(inventory)"
   ]
  },
  {
   "cell_type": "code",
   "execution_count": 16,
   "metadata": {},
   "outputs": [
    {
     "data": {
      "text/plain": [
       "variant_id          0\n",
       "price               0\n",
       "compare_at_price    0\n",
       "vendor              0\n",
       "product_type        0\n",
       "tags                0\n",
       "dtype: int64"
      ]
     },
     "execution_count": 16,
     "metadata": {},
     "output_type": "execute_result"
    }
   ],
   "source": [
    "#On a superficial level, there are no nulls, so we move forward\n",
    "\n",
    "inventory.isnull().sum()"
   ]
  },
  {
   "cell_type": "code",
   "execution_count": 17,
   "metadata": {},
   "outputs": [
    {
     "name": "stdout",
     "output_type": "stream",
     "text": [
      "1733\n"
     ]
    }
   ],
   "source": [
    "# variant_id: the id of the product of the basket. It is unique, so there are no errors \n",
    "inv_id_unique = set(inventory[\"variant_id\"])\n",
    "print(len(inv_id_unique)) "
   ]
  },
  {
   "cell_type": "code",
   "execution_count": 18,
   "metadata": {},
   "outputs": [
    {
     "data": {
      "text/plain": [
       "{'whiskers': [<matplotlib.lines.Line2D at 0x7f864ef2c210>,\n",
       "  <matplotlib.lines.Line2D at 0x7f864ef2cb50>],\n",
       " 'caps': [<matplotlib.lines.Line2D at 0x7f864ef2d4d0>,\n",
       "  <matplotlib.lines.Line2D at 0x7f864ef2df90>],\n",
       " 'boxes': [<matplotlib.lines.Line2D at 0x7f864c5e7cd0>],\n",
       " 'medians': [<matplotlib.lines.Line2D at 0x7f864ef2e850>],\n",
       " 'fliers': [<matplotlib.lines.Line2D at 0x7f864ef2f090>],\n",
       " 'means': []}"
      ]
     },
     "execution_count": 18,
     "metadata": {},
     "output_type": "execute_result"
    },
    {
     "data": {
      "image/png": "[encoded data removed]",
      "text/plain": [
       "<Figure size 640x480 with 1 Axes>"
      ]
     },
     "metadata": {},
     "output_type": "display_data"
    }
   ],
   "source": [
    "# price: the price of the product. In the boxplot, we see how the average price of all objects in\n",
    "#the store is not a representative metric, as there are many outliers with high price. \n",
    "\n",
    "plt.boxplot(inventory[\"price\"])"
   ]
  },
  {
   "cell_type": "code",
   "execution_count": 19,
   "metadata": {},
   "outputs": [
    {
     "name": "stdout",
     "output_type": "stream",
     "text": [
      "{(0, 2): 270, (2, 4): 544, (4, 6): 341, (6, 8): 115, (8, 10): 105, (10, 12): 91, (12, 14): 33, (14, 16): 48, (16, 18): 25, (18, 20): 20, (20, 25): 24, (25, 30): 15, (30, 50): 28, (50, 70): 3}\n"
     ]
    }
   ],
   "source": [
    "#In the end of the day, in a grocery store some things are generally cheap (food) and other more expensive \n",
    "#(household appliances, chemical products...). The best way is to represent the price by intervals.\n",
    "#We see the info that the majority of products lie in the categories 0-2, 2-4, 4-6, which is the typical\n",
    "#price for groceries and basic products. The amount of products from 20 euros onwards is basically marginal\n",
    "\n",
    "price_intervals=((0,2),(2,4),(4,6),(6,8),(8,10),(10,12),(12,14),(14,16),(16,18),(18,20),(20,25),(25,30),(30,50),(50,70))\n",
    "count_price_intervals={}\n",
    "for interval in price_intervals:\n",
    "    count_price_intervals[interval]=len(inventory[\"price\"][(inventory[\"price\"]>interval[0]) & (inventory[\"price\"]<=interval[1])])\n",
    "print(count_price_intervals)"
   ]
  },
  {
   "cell_type": "code",
   "execution_count": 20,
   "metadata": {},
   "outputs": [
    {
     "data": {
      "text/plain": [
       "{'whiskers': [<matplotlib.lines.Line2D at 0x7f864ef864d0>,\n",
       "  <matplotlib.lines.Line2D at 0x7f864ef86e50>],\n",
       " 'caps': [<matplotlib.lines.Line2D at 0x7f864ef87650>,\n",
       "  <matplotlib.lines.Line2D at 0x7f864ef9c050>],\n",
       " 'boxes': [<matplotlib.lines.Line2D at 0x7f864ef85b10>],\n",
       " 'medians': [<matplotlib.lines.Line2D at 0x7f864ef9c890>],\n",
       " 'fliers': [<matplotlib.lines.Line2D at 0x7f864ef9d190>],\n",
       " 'means': []}"
      ]
     },
     "execution_count": 20,
     "metadata": {},
     "output_type": "execute_result"
    },
    {
     "data": {
      "image/png": "[encoded data removed]",
      "text/plain": [
       "<Figure size 640x480 with 1 Axes>"
      ]
     },
     "metadata": {},
     "output_type": "display_data"
    }
   ],
   "source": [
    "#compare_at_price: this value is a bit different, similar to price. \n",
    "\n",
    "plt.boxplot(inventory[\"compare_at_price\"])"
   ]
  },
  {
   "cell_type": "code",
   "execution_count": 22,
   "metadata": {},
   "outputs": [
    {
     "name": "stdout",
     "output_type": "stream",
     "text": [
      "{(-0.6, -0.4): 0, (-0.4, -0.2): 2, (-0.2, 0): 107, (0, 0.2): 710, (0.2, 0.4): 208, (0.4, 0.6): 183, (0.6, 0.8): 72, (0.8, 1): 76, (1, 2): 182, (2, 3): 89, (4, 6): 22, (6, 8): 9, (8, 10): 7, (10, 20): 2, (20, 30): 0}\n"
     ]
    }
   ],
   "source": [
    "#It is not entirely clear what compare_at_price is, maybe it is the true price at which we sell, \n",
    "#and the price before is the raw price at what we buy, so we earn the difference. Maybe it is the difference\n",
    "#of what we sell vs the price of our competitiors... For that, let' calculate the difference between these \n",
    "#2 columns.\n",
    "\n",
    "#Some of these differences are negative, but most remain positive and low, between 0 - 1. \n",
    "\n",
    "\n",
    "substract_prices= inventory['compare_at_price'].sub(inventory['price'])\n",
    "price_differences=((-0.6,-0.4),(-0.4,-0.2),(-0.2,0),(0,0.2),(0.2,0.4),(0.4,0.6),(0.6,0.8),(0.8,1),(1,2),(2,3),(4,6),(6,8),(8,10),(10,20),(20,30))\n",
    "price_differences_intervals={}\n",
    "for interval in price_differences:\n",
    "    price_differences_intervals[interval]=((substract_prices>interval[0]) & (substract_prices<=interval[1])).sum()\n",
    "print(price_differences_intervals)"
   ]
  },
  {
   "cell_type": "code",
   "execution_count": 23,
   "metadata": {},
   "outputs": [
    {
     "name": "stdout",
     "output_type": "stream",
     "text": [
      "vendor\n",
      "biona              69\n",
      "ecover             34\n",
      "napolina           28\n",
      "faithinnature      27\n",
      "method             26\n",
      "                   ..\n",
      "betterbodyfoods     1\n",
      "jameson             1\n",
      "purato              1\n",
      "kwv                 1\n",
      "eskimo3             1\n",
      "Name: count, Length: 412, dtype: int64\n"
     ]
    }
   ],
   "source": [
    "#vendor: clearly represents the manufacturer. We see how biona, ecover, napolina... are the ones\n",
    "#that sell the most amount of products, and some manufacturers only sell 1 product. In total, 412 brands\n",
    "#are offered.\n",
    "print(inventory['vendor'].value_counts())\n"
   ]
  },
  {
   "cell_type": "code",
   "execution_count": 24,
   "metadata": {},
   "outputs": [
    {
     "name": "stdout",
     "output_type": "stream",
     "text": [
      "product_type\n",
      "cleaning-products                  160\n",
      "tins-packaged-foods                125\n",
      "snacks-confectionery               122\n",
      "cooking-ingredients                 73\n",
      "pasta-rice-noodles                  66\n",
      "baby-toddler-food                   62\n",
      "condiments-dressings                52\n",
      "cereal                              51\n",
      "haircare                            50\n",
      "biscuits-crackers                   49\n",
      "soft-drinks-mixers                  48\n",
      "baby-kids-toiletries                45\n",
      "skincare                            44\n",
      "cooking-sauces                      43\n",
      "dog-food                            42\n",
      "dental                              42\n",
      "baby-accessories                    41\n",
      "superfoods-supplements              37\n",
      "cat-food                            35\n",
      "shaving-grooming                    29\n",
      "nappies-nappy-pants                 29\n",
      "dishwashing                         27\n",
      "period-care                         26\n",
      "home-baking                         25\n",
      "hand-soap-sanitisers                24\n",
      "long-life-milk-substitutes          24\n",
      "tea                                 22\n",
      "medicines-treatments                20\n",
      "spreads                             19\n",
      "spirits-liqueurs                    19\n",
      "wine                                18\n",
      "toilet-roll-kitchen-roll-tissue     18\n",
      "bath-shower-gel                     18\n",
      "washing-liquid-gel                  18\n",
      "fabric-softener-freshener           17\n",
      "baby-milk-formula                   16\n",
      "bin-bags                            15\n",
      "coffee                              15\n",
      "food-bags-cling-film-foil           14\n",
      "deodorant                           13\n",
      "beer                                11\n",
      "low-no-alcohol                       9\n",
      "maternity                            9\n",
      "suncare                              9\n",
      "washing-powder                       8\n",
      "sexual-health                        8\n",
      "washing-capsules                     8\n",
      "delicates-stain-remover              8\n",
      "pet-care                             7\n",
      "adult-incontinence                   7\n",
      "mixed-bundles                        6\n",
      "medicine-treatments                  5\n",
      "drying-ironing                       5\n",
      "premixed-cocktails                   5\n",
      "cider                                4\n",
      "                                     4\n",
      "household-sundries                   3\n",
      "other-hot-drinks                     2\n",
      "water-softener                       2\n",
      "Name: count, dtype: int64\n"
     ]
    }
   ],
   "source": [
    "#product_type: represents the category of the product. With the same analysis as before, the majority\n",
    "#of products are categorised as cleaning products. There are few relevant categories among the top ten, \n",
    "#including tin food, snacks, baby toddler food...\n",
    "\n",
    "print(inventory['product_type'].value_counts())\n"
   ]
  },
  {
   "cell_type": "code",
   "execution_count": 43,
   "metadata": {},
   "outputs": [
    {
     "name": "stdout",
     "output_type": "stream",
     "text": [
      "                  id                                            user_id  \\\n",
      "10     2204073066628  62e271062eb827e411bd73941178d29b022f5f2de9d37f...   \n",
      "20     2204707520644  bf591c887c46d5d3513142b6a855dd7ffb9cc00697f6f5...   \n",
      "21     2204838822020  329f08c66abb51f8c0b8a9526670da2d94c0c6eef06700...   \n",
      "34     2208967852164  f6451fce7b1c58d0effbe37fcb4e67b718193562766470...   \n",
      "49     2215889436804  68e872ff888303bff58ec56a3a986f77ddebdbe5c279e7...   \n",
      "...              ...                                                ...   \n",
      "64396  4026096910468  f524eaf26b76bc6226747768f120ffcd23d5c3d52a0a19...   \n",
      "64488  4026464993412  aa5e21db3186dcd84c161719c5ade8a19adb853ea8bfef...   \n",
      "64499  4026553434244  14be3833c19e0a1fd7e6db0e5375a3d1dcc9efafcb0e69...   \n",
      "64523  4026656030852  500027bf392bfa9ef527919569fba44904d429155b7cf4...   \n",
      "64538  4026732413060  faaad4bc113fe7e0a888a0d3535877d3c692f591882c25...   \n",
      "\n",
      "               created_at order_date  user_order_seq  \\\n",
      "10    2020-04-30 14:32:19 2020-04-30               1   \n",
      "20    2020-04-30 17:39:00 2020-04-30               1   \n",
      "21    2020-04-30 18:12:30 2020-04-30               1   \n",
      "34    2020-05-01 19:44:11 2020-05-01               1   \n",
      "49    2020-05-03 21:56:14 2020-05-03               1   \n",
      "...                   ...        ...             ...   \n",
      "64396 2022-03-13 10:14:22 2022-03-13               5   \n",
      "64488 2022-03-13 18:30:31 2022-03-13               3   \n",
      "64499 2022-03-13 20:11:50 2022-03-13              11   \n",
      "64523 2022-03-13 22:29:24 2022-03-13               4   \n",
      "64538 2022-03-14 00:24:59 2022-03-14               3   \n",
      "\n",
      "                                           ordered_items  \n",
      "10     [33618849693828, 33618860179588, 3361887404045...  \n",
      "20     [33618835243140, 33618835964036, 3361886244058...  \n",
      "21     [33618891145348, 33618893570180, 3361889766618...  \n",
      "34     [33618830196868, 33618846580868, 3361891234624...  \n",
      "49     [33667166699652, 33667166699652, 3366717122163...  \n",
      "...                                                  ...  \n",
      "64396  [33981947707524, 34284951273604, 3428495127360...  \n",
      "64488  [33803540725892, 34284950519940, 3437091504141...  \n",
      "64499  [39283356663940, 39283356663940, 4015514504410...  \n",
      "64523  [33824368033924, 33824368033924, 3382436803392...  \n",
      "64538  [33826472558724, 34037939437700, 3428495186342...  \n",
      "\n",
      "[8773 rows x 6 columns]\n"
     ]
    }
   ],
   "source": [
    "print(orders)"
   ]
  },
  {
   "cell_type": "code",
   "execution_count": 28,
   "metadata": {},
   "outputs": [
    {
     "data": {
      "text/plain": [
       "id                0\n",
       "user_id           0\n",
       "created_at        0\n",
       "order_date        0\n",
       "user_order_seq    0\n",
       "ordered_items     0\n",
       "dtype: int64"
      ]
     },
     "execution_count": 28,
     "metadata": {},
     "output_type": "execute_result"
    }
   ],
   "source": [
    "#On a superficial level, there are no nulls, so we move forward.\n",
    "\n",
    "orders.isnull().sum()"
   ]
  },
  {
   "cell_type": "code",
   "execution_count": 29,
   "metadata": {},
   "outputs": [
    {
     "data": {
      "text/plain": [
       "id                8773\n",
       "user_id           8773\n",
       "created_at        8773\n",
       "order_date        8773\n",
       "user_order_seq    8773\n",
       "ordered_items     8773\n",
       "dtype: int64"
      ]
     },
     "execution_count": 29,
     "metadata": {},
     "output_type": "execute_result"
    }
   ],
   "source": [
    "#We count the elements too. \n",
    "orders.count()"
   ]
  },
  {
   "cell_type": "code",
   "execution_count": 30,
   "metadata": {},
   "outputs": [
    {
     "name": "stdout",
     "output_type": "stream",
     "text": [
      "8773\n"
     ]
    }
   ],
   "source": [
    "#id: should be the id of the purchase. It should have no duplicates if each order contains a basket of\n",
    "#products\n",
    "\n",
    "ord_id_unique = set(orders[\"id\"])\n",
    "print(len(ord_id_unique)) "
   ]
  },
  {
   "cell_type": "code",
   "execution_count": 32,
   "metadata": {},
   "outputs": [
    {
     "name": "stdout",
     "output_type": "stream",
     "text": [
      "4983\n"
     ]
    }
   ],
   "source": [
    "#user_id: should be the id of the user. There should be duplicates if some particular user buys more than\n",
    "#once, which is the case.\n",
    "\n",
    "ord_user_id_unique = set(orders[\"user_id\"])\n",
    "print(len(ord_user_id_unique)) "
   ]
  },
  {
   "cell_type": "code",
   "execution_count": 38,
   "metadata": {},
   "outputs": [
    {
     "name": "stdout",
     "output_type": "stream",
     "text": [
      "{'1': 3572, '2': 698, '3': 251, '4': 148, '5': 89, '6': 58, '7-10': 116, '11-15': 24, '16+': 27}\n"
     ]
    }
   ],
   "source": [
    "#The difference is quite large, let´s delve deeper into this. In extreme cases, this can mean that at least\n",
    "#every customer buys twice in our shop, or that some few customers can repeat a lot.\n",
    "#Its interesting to check intervals of customers. The results show that an outstanding majority\n",
    "#only shops once in our online store. We also have a solid, yet quite small, groups of people that buy\n",
    "#recurrently (from 5 times onwards). \n",
    "\n",
    "user_id_counter=Counter(orders[\"user_id\"])\n",
    "people_repetition_intervals=(1,2,3,4,5,6,7,8,9,10,11,12,13,14,15,16,17,18,19,20,21,22,23,24,25)\n",
    "count_userid_intervals={\"1\":0,\"2\":0,\"3\":0,\"4\":0,\"5\":0,\"6\":0,\"7-10\":0,\"11-15\":0,\"16+\":0}\n",
    "for element in dict(user_id_counter).values():\n",
    "    if element<=6:\n",
    "        count_userid_intervals[str(element)]+=1\n",
    "    else: \n",
    "        match element:\n",
    "            case 7|8|9|10:\n",
    "                count_userid_intervals[\"7-10\"]+=1\n",
    "            case 1|12|13|14|15:\n",
    "                count_userid_intervals[\"11-15\"]+=1\n",
    "            case _:\n",
    "                count_userid_intervals[\"16+\"]+=1\n",
    "print(count_userid_intervals)"
   ]
  },
  {
   "cell_type": "code",
   "execution_count": 39,
   "metadata": {},
   "outputs": [
    {
     "data": {
      "text/html": [
       "<div>\n",
       "<style scoped>\n",
       "    .dataframe tbody tr th:only-of-type {\n",
       "        vertical-align: middle;\n",
       "    }\n",
       "\n",
       "    .dataframe tbody tr th {\n",
       "        vertical-align: top;\n",
       "    }\n",
       "\n",
       "    .dataframe thead th {\n",
       "        text-align: right;\n",
       "    }\n",
       "</style>\n",
       "<table border=\"1\" class=\"dataframe\">\n",
       "  <thead>\n",
       "    <tr style=\"text-align: right;\">\n",
       "      <th></th>\n",
       "      <th>Year</th>\n",
       "      <th>Month</th>\n",
       "      <th>Day</th>\n",
       "      <th>Hour</th>\n",
       "    </tr>\n",
       "  </thead>\n",
       "  <tbody>\n",
       "    <tr>\n",
       "      <th>0</th>\n",
       "      <td>2020</td>\n",
       "      <td>4</td>\n",
       "      <td>30</td>\n",
       "      <td>14</td>\n",
       "    </tr>\n",
       "    <tr>\n",
       "      <th>1</th>\n",
       "      <td>2020</td>\n",
       "      <td>4</td>\n",
       "      <td>30</td>\n",
       "      <td>17</td>\n",
       "    </tr>\n",
       "    <tr>\n",
       "      <th>2</th>\n",
       "      <td>2020</td>\n",
       "      <td>4</td>\n",
       "      <td>30</td>\n",
       "      <td>18</td>\n",
       "    </tr>\n",
       "    <tr>\n",
       "      <th>3</th>\n",
       "      <td>2020</td>\n",
       "      <td>5</td>\n",
       "      <td>1</td>\n",
       "      <td>19</td>\n",
       "    </tr>\n",
       "    <tr>\n",
       "      <th>4</th>\n",
       "      <td>2020</td>\n",
       "      <td>5</td>\n",
       "      <td>3</td>\n",
       "      <td>21</td>\n",
       "    </tr>\n",
       "    <tr>\n",
       "      <th>...</th>\n",
       "      <td>...</td>\n",
       "      <td>...</td>\n",
       "      <td>...</td>\n",
       "      <td>...</td>\n",
       "    </tr>\n",
       "    <tr>\n",
       "      <th>8768</th>\n",
       "      <td>2022</td>\n",
       "      <td>3</td>\n",
       "      <td>13</td>\n",
       "      <td>10</td>\n",
       "    </tr>\n",
       "    <tr>\n",
       "      <th>8769</th>\n",
       "      <td>2022</td>\n",
       "      <td>3</td>\n",
       "      <td>13</td>\n",
       "      <td>18</td>\n",
       "    </tr>\n",
       "    <tr>\n",
       "      <th>8770</th>\n",
       "      <td>2022</td>\n",
       "      <td>3</td>\n",
       "      <td>13</td>\n",
       "      <td>20</td>\n",
       "    </tr>\n",
       "    <tr>\n",
       "      <th>8771</th>\n",
       "      <td>2022</td>\n",
       "      <td>3</td>\n",
       "      <td>13</td>\n",
       "      <td>22</td>\n",
       "    </tr>\n",
       "    <tr>\n",
       "      <th>8772</th>\n",
       "      <td>2022</td>\n",
       "      <td>3</td>\n",
       "      <td>14</td>\n",
       "      <td>0</td>\n",
       "    </tr>\n",
       "  </tbody>\n",
       "</table>\n",
       "<p>8773 rows × 4 columns</p>\n",
       "</div>"
      ],
      "text/plain": [
       "      Year  Month  Day  Hour\n",
       "0     2020      4   30    14\n",
       "1     2020      4   30    17\n",
       "2     2020      4   30    18\n",
       "3     2020      5    1    19\n",
       "4     2020      5    3    21\n",
       "...    ...    ...  ...   ...\n",
       "8768  2022      3   13    10\n",
       "8769  2022      3   13    18\n",
       "8770  2022      3   13    20\n",
       "8771  2022      3   13    22\n",
       "8772  2022      3   14     0\n",
       "\n",
       "[8773 rows x 4 columns]"
      ]
     },
     "execution_count": 39,
     "metadata": {},
     "output_type": "execute_result"
    }
   ],
   "source": [
    "#created_at: when the basket was generated. We can perform the same analysis as with the cancellations case.\n",
    "\n",
    "ord_created_at_date_separated = pd.DataFrame(columns=['Year','Month','Day','Hour'])\n",
    "for element in orders[\"created_at\"]:\n",
    "    ord_created_at_date_separated.loc[len(ord_created_at_date_separated)]={'Year': element.year, 'Month':element.month,'Day':element.day,'Hour':element.hour}\n",
    "ord_created_at_date_separated"
   ]
  },
  {
   "cell_type": "code",
   "execution_count": 40,
   "metadata": {},
   "outputs": [
    {
     "name": "stdout",
     "output_type": "stream",
     "text": [
      "Year  Month\n",
      "2020  4           3\n",
      "      5          25\n",
      "      6          42\n",
      "      7          58\n",
      "      8          66\n",
      "      9          95\n",
      "      10        124\n",
      "      11        152\n",
      "      12        175\n",
      "2021  1         390\n",
      "      2         374\n",
      "      3         397\n",
      "      4         391\n",
      "      5         408\n",
      "      6         412\n",
      "      7         335\n",
      "      8         345\n",
      "      9         359\n",
      "      10        754\n",
      "      11        903\n",
      "      12        716\n",
      "2022  1        1080\n",
      "      2         891\n",
      "      3         278\n",
      "Name: Day, dtype: int64\n"
     ]
    }
   ],
   "source": [
    "#We see that the store has generally been growing since its possible foundation in 2020. It is also \n",
    "#corroborated how most of the sales occur during autumn-winter, which is in line with having a larger\n",
    "#number of basket cancellations. \n",
    "\n",
    "print(ord_created_at_date_separated.groupby(['Year','Month'])['Day'].count())"
   ]
  },
  {
   "cell_type": "code",
   "execution_count": 41,
   "metadata": {},
   "outputs": [
    {
     "data": {
      "text/plain": [
       "<BarContainer object of 31 artists>"
      ]
     },
     "execution_count": 41,
     "metadata": {},
     "output_type": "execute_result"
    },
    {
     "data": {
      "image/png": "[encoded data removed]",
      "text/plain": [
       "<Figure size 640x480 with 1 Axes>"
      ]
     },
     "metadata": {},
     "output_type": "display_data"
    }
   ],
   "source": [
    "#We see that, in general, the sales are homogenously distributed around all days in a month. There is\n",
    "#still the curious spike at the 21st; maybe this is the day of the salary payment and that is why more\n",
    "#people buy that day. \n",
    "\n",
    "plt.bar(range(1,32),ord_created_at_date_separated.groupby(['Day'])['Month'].count())"
   ]
  },
  {
   "cell_type": "code",
   "execution_count": 42,
   "metadata": {},
   "outputs": [
    {
     "data": {
      "text/plain": [
       "<BarContainer object of 24 artists>"
      ]
     },
     "execution_count": 42,
     "metadata": {},
     "output_type": "execute_result"
    },
    {
     "data": {
      "image/png": "[encoded data removed]",
      "text/plain": [
       "<Figure size 640x480 with 1 Axes>"
      ]
     },
     "metadata": {},
     "output_type": "display_data"
    }
   ],
   "source": [
    "#By plotting when the orders are created, we clearly see how they are distributed approximately \n",
    "#equally around the day, and not at night, implying that we work only in one timezone. In addition, this \n",
    "#distribution gives no apparent reason why at 10.00 there should be more cancellations that any other hours.\n",
    "#For this, we could investigate if it was during a punctual day, and if it did not happen during a specific \n",
    "#day then we might know when is the best moment of the day to launch a discount, or some kind of action for\n",
    "#our basket not to be cancelled. \n",
    "\n",
    "plt.bar(range(1,25),ord_created_at_date_separated.groupby(['Hour'])['Month'].count())"
   ]
  },
  {
   "cell_type": "code",
   "execution_count": null,
   "metadata": {},
   "outputs": [],
   "source": [
    "#order_date: apparently, a reduction of the column of created_at, including only the date of succesful basket\n",
    "#creation.\n"
   ]
  },
  {
   "cell_type": "code",
   "execution_count": 55,
   "metadata": {},
   "outputs": [
    {
     "data": {
      "text/plain": [
       "[('ba7176c5f870cd86e51ecc4375e0becc8cc305845e70b9384ba0d4d156c6099ec96602b15420cb1ff69b6b9adcf9249d09489d511565531c4e928a92157b16d6',\n",
       "  25),\n",
       " ('04e9d7967f4dfd7d40175f130f1c80f62204ff697df92dfd83407ace7997b6744b6a7cab0382e60f7264b13ba3f03c64f016ae9dca664885ace6020aba3b5131',\n",
       "  22)]"
      ]
     },
     "execution_count": 55,
     "metadata": {},
     "output_type": "execute_result"
    }
   ],
   "source": [
    "#user_order_seq: it can be kind of predicted that this value corresponds to the what n order is the one\n",
    "#for a user. So, for someone that has not bought anything before, he will have a 1 on their first purchase.\n",
    "#If they buy again, the user_order_seq will be 2, and so on. We can check this by isolating, for example,\n",
    "#the 2 users that most things bought.\n",
    "\n",
    "user_id_mostcommon=user_id_counter.most_common(2)\n",
    "user_id_mostcommon\n"
   ]
  },
  {
   "cell_type": "code",
   "execution_count": 53,
   "metadata": {},
   "outputs": [
    {
     "name": "stdout",
     "output_type": "stream",
     "text": [
      "16245     1\n",
      "18494     2\n",
      "19262     3\n",
      "19835     4\n",
      "20762     5\n",
      "21366     6\n",
      "21989     7\n",
      "24028     8\n",
      "24631     9\n",
      "25435    10\n",
      "26361    11\n",
      "27263    12\n",
      "28672    13\n",
      "30703    14\n",
      "33236    15\n",
      "36040    16\n",
      "39746    17\n",
      "42646    18\n",
      "45537    19\n",
      "49073    20\n",
      "54555    21\n",
      "57864    22\n",
      "60099    23\n",
      "63551    24\n",
      "63830    25\n",
      "Name: user_order_seq, dtype: int64\n"
     ]
    }
   ],
   "source": [
    "#This is confirmed by the most habitual customer, with a total of 25 times. Let's double check it with the\n",
    "#second most habitual customer.\n",
    "\n",
    "user_id_mostcommon_df = orders[orders['user_id'] == user_id_mostcommon[0][0]] \n",
    "print(user_id_mostcommon_df[\"user_order_seq\"])"
   ]
  },
  {
   "cell_type": "code",
   "execution_count": 56,
   "metadata": {},
   "outputs": [
    {
     "name": "stdout",
     "output_type": "stream",
     "text": [
      "7444      1\n",
      "8439      2\n",
      "9008      3\n",
      "9621      4\n",
      "10767     5\n",
      "11694     6\n",
      "13089     7\n",
      "14264     8\n",
      "16466     9\n",
      "17809    10\n",
      "18543    11\n",
      "19986    12\n",
      "21507    13\n",
      "22380    14\n",
      "23463    15\n",
      "24036    16\n",
      "25457    17\n",
      "27382    18\n",
      "28543    19\n",
      "30234    20\n",
      "32725    21\n",
      "56583    22\n",
      "Name: user_order_seq, dtype: int64\n"
     ]
    }
   ],
   "source": [
    "#This is confirmed by the most habitual customer, with a total of 25 times. Let's double check it with the\n",
    "#second most habitual customer.\n",
    "\n",
    "user_id_mostcommon_df2 = orders[orders['user_id'] == user_id_mostcommon[1][0]] \n",
    "print(user_id_mostcommon_df2[\"user_order_seq\"])"
   ]
  },
  {
   "cell_type": "code",
   "execution_count": null,
   "metadata": {},
   "outputs": [],
   "source": [
    "#ordered_items: this provides the items bought by each customer. We can analyse many things \n",
    "#related to this. \n",
    "#to be continued..."
   ]
  },
  {
   "cell_type": "code",
   "execution_count": 120,
   "metadata": {},
   "outputs": [
    {
     "name": "stdout",
     "output_type": "stream",
     "text": [
      "                                                 user_id      variant_id  \\\n",
      "3      68e872ff888303bff58ec56a3a986f77ddebdbe5c279e7...  33618848088196   \n",
      "11     aed88fc0b004270a62ff1fe4b94141f6b1db1496dbb0c0...  33667178659972   \n",
      "18     68e872ff888303bff58ec56a3a986f77ddebdbe5c279e7...  33619009208452   \n",
      "46     aed88fc0b004270a62ff1fe4b94141f6b1db1496dbb0c0...  33667305373828   \n",
      "47     4594e99557113d5a1c5b59bf31b8704aafe5c7bd180b32...  33667247341700   \n",
      "...                                                  ...             ...   \n",
      "37644  20a41b8fa616484b39812aaa377ea1b53247f6941c0586...  39265878999172   \n",
      "37717  ba068a3398230c10a98868ced1fcc5b889b21e6f112fd0...  39459281272964   \n",
      "37718  ba068a3398230c10a98868ced1fcc5b889b21e6f112fd0...  33973246951556   \n",
      "37719  ba068a3398230c10a98868ced1fcc5b889b21e6f112fd0...  39587297656964   \n",
      "37720  ba068a3398230c10a98868ced1fcc5b889b21e6f112fd0...  34415987753092   \n",
      "\n",
      "               created_at  \n",
      "3     2020-04-30 15:07:03  \n",
      "11    2020-05-05 23:34:35  \n",
      "18    2020-04-30 15:07:03  \n",
      "46    2020-05-05 23:34:35  \n",
      "47    2020-05-06 14:42:11  \n",
      "...                   ...  \n",
      "37644 2022-03-13 16:02:13  \n",
      "37717 2022-03-14 07:49:24  \n",
      "37718 2022-03-14 07:49:24  \n",
      "37719 2022-03-14 07:49:24  \n",
      "37720 2022-03-14 07:49:24  \n",
      "\n",
      "[18105 rows x 3 columns]\n"
     ]
    }
   ],
   "source": [
    "print(regulars)\n",
    "#to be continued..."
   ]
  },
  {
   "cell_type": "code",
   "execution_count": 121,
   "metadata": {},
   "outputs": [
    {
     "name": "stdout",
     "output_type": "stream",
     "text": [
      "                                                user_id user_segment  \\\n",
      "2160  0e823a42e107461379e5b5613b7aa00537a72e1b0eaa7a...       Top Up   \n",
      "1123  15768ced9bed648f745a7aa566a8895f7a73b9a47c1d4f...       Top Up   \n",
      "1958  33e0cb6eacea0775e34adbaa2c1dec16b9d6484e6b9324...       Top Up   \n",
      "675   57ca7591dc79825df0cecc4836a58e6062454555c86c35...       Top Up   \n",
      "4694  085d8e598139ce6fc9f75d9de97960fa9e1457b409ec00...       Top Up   \n",
      "...                                                 ...          ...   \n",
      "3011  2c0eaa81411d8796e4e28a1a13265aa773e815d83e6db1...  Proposition   \n",
      "4343  bf8da3ba3538396b70564a49f55f26303af645a0fe32fa...       Top Up   \n",
      "2725  b1892f28d8bb191138ec1f098a8e229c16755f2616aea0...       Top Up   \n",
      "4340  2745667201081b389e4b290565d17651b3eb94d9077183...  Proposition   \n",
      "3360  d96aadc220f2776037e519f2c3bd4a2f0199658cc45b29...  Proposition   \n",
      "\n",
      "     user_nuts1     first_ordered_at customer_cohort_month  count_people  \\\n",
      "2160        UKH  2021-05-08 13:33:49   2021-05-01 00:00:00           NaN   \n",
      "1123        UKJ  2021-11-17 16:30:20   2021-11-01 00:00:00           NaN   \n",
      "1958        UKD  2022-03-09 23:12:25   2022-03-01 00:00:00           NaN   \n",
      "675         UKI  2021-04-23 16:29:02   2021-04-01 00:00:00           NaN   \n",
      "4694        UKJ  2021-11-02 13:50:06   2021-11-01 00:00:00           NaN   \n",
      "...         ...                  ...                   ...           ...   \n",
      "3011        UKH  2022-01-18 10:10:39   2022-01-01 00:00:00           NaN   \n",
      "4343        UKI  2021-11-02 09:24:55   2021-11-01 00:00:00           NaN   \n",
      "2725        UKM  2021-06-10 12:46:07   2021-06-01 00:00:00           NaN   \n",
      "4340        UKI  2021-01-10 11:07:16   2021-01-01 00:00:00           NaN   \n",
      "3360        UKI  2022-01-10 21:00:54   2022-01-01 00:00:00           NaN   \n",
      "\n",
      "      count_adults  count_children  count_babies  count_pets  \n",
      "2160           NaN             NaN           NaN         NaN  \n",
      "1123           NaN             NaN           NaN         NaN  \n",
      "1958           NaN             NaN           NaN         NaN  \n",
      "675            NaN             NaN           NaN         NaN  \n",
      "4694           NaN             NaN           NaN         NaN  \n",
      "...            ...             ...           ...         ...  \n",
      "3011           NaN             NaN           NaN         NaN  \n",
      "4343           NaN             NaN           NaN         NaN  \n",
      "2725           NaN             NaN           NaN         NaN  \n",
      "4340           NaN             NaN           NaN         NaN  \n",
      "3360           NaN             NaN           NaN         NaN  \n",
      "\n",
      "[4983 rows x 10 columns]\n"
     ]
    }
   ],
   "source": [
    "print(users)\n",
    "#to be continued..."
   ]
  },
  {
   "cell_type": "code",
   "execution_count": null,
   "metadata": {},
   "outputs": [],
   "source": [
    "#Stuff to study:\n",
    "#- Do the buyers that have abandoned a cart bought another order, or do they never even consider\n",
    "#buying something again? -> Improvement quality\n",
    "\n",
    "#Maybe they are people that started the order and never\n",
    "#finished it. Maybe they are already users that had to cancel an order. Maybe that low number of \n",
    "#people with more orders rejected (7 onwards) are habitual clients that as they do many orders they \n",
    "#sometimes do errors and have to cancel more often...\n",
    "\n",
    "#to be continued..."
   ]
  }
 ],
 "metadata": {
  "kernelspec": {
   "display_name": ".venv",
   "language": "python",
   "name": "python3"
  },
  "language_info": {
   "codemirror_mode": {
    "name": "ipython",
    "version": 3
   },
   "file_extension": ".py",
   "mimetype": "text/x-python",
   "name": "python",
   "nbconvert_exporter": "python",
   "pygments_lexer": "ipython3",
   "version": "3.11.5"
  }
 },
 "nbformat": 4,
 "nbformat_minor": 2
}

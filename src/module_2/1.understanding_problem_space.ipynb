{
 "cells": [
  {
   "cell_type": "markdown",
   "metadata": {},
   "source": [
    "# 1.Understanding Problem Space"
   ]
  },
  {
   "cell_type": "code",
   "execution_count": 52,
   "metadata": {},
   "outputs": [],
   "source": [
    "import pandas as pd\n",
    "import numpy as np\n",
    "#from io import BytesIO\n",
    "from datetime import datetime\n",
    "import matplotlib.pyplot as plt\n",
    "from collections import Counter"
   ]
  },
  {
   "cell_type": "code",
   "execution_count": 6,
   "metadata": {},
   "outputs": [],
   "source": [
    "#We charge the dataframes\n",
    "\n",
    "abandoned_carts = pd.read_parquet(\"abandoned_carts.parquet\")\n",
    "inventory = pd.read_parquet(\"inventory.parquet\")\n",
    "orders = pd.read_parquet(\"orders.parquet\")\n",
    "regulars = pd.read_parquet(\"regulars.parquet\")\n",
    "users = pd.read_parquet(\"users.parquet\")"
   ]
  },
  {
   "cell_type": "code",
   "execution_count": 3,
   "metadata": {},
   "outputs": [
    {
     "name": "stdout",
     "output_type": "stream",
     "text": [
      "                   id                                            user_id  \\\n",
      "0      12858560217220  5c4e5953f13ddc3bc9659a3453356155e5efe4739d7a2b...   \n",
      "13     20352449839236  9d6187545c005d39e44d0456d87790db18611d7c7379bd...   \n",
      "45     20478401413252  e83fb0273d70c37a2968fee107113698fd4f389c442c0b...   \n",
      "50     20481783103620  10c42e10e530284b7c7c50f3a23a98726d5747b8128084...   \n",
      "52     20485321687172  d9989439524b3f6fc4f41686d043f315fb408b954d6153...   \n",
      "...               ...                                                ...   \n",
      "70036  22233840976004  2e989bfdec87ef55ea464a529f323ff53dad2a2fc48655...   \n",
      "70041  22233843171460  b2d867b982b14ca517f27c4ced727c8a25c01b96ebbd96...   \n",
      "70043  22233843531908  220aafc0749f209b3f0f7cfe4134a5136815d48f0bbd9a...   \n",
      "70049  22233846218884  a4da55d51052411e54f98e1b90b19843121866abeaea76...   \n",
      "70050  22233846317188  c0e740ecabe7bd19eaed35b5ea9be7bc80c15f32124712...   \n",
      "\n",
      "               created_at                                         variant_id  \n",
      "0     2020-05-20 13:53:24  [33826459287684, 33826457616516, 3366719212762...  \n",
      "13    2021-06-27 05:24:13  [34415988179076, 34037940158596, 3450282236326...  \n",
      "45    2021-07-18 08:23:49  [34543001337988, 34037939372164, 3411360609088...  \n",
      "50    2021-07-18 21:29:36  [33667268116612, 34037940224132, 3443605520397...  \n",
      "52    2021-07-19 12:17:05   [33667268083844, 34284950454404, 33973246886020]  \n",
      "...                   ...                                                ...  \n",
      "70036 2022-03-13 14:11:15                   [34284950192260, 39466620911748]  \n",
      "70041 2022-03-13 14:11:36                   [39536607395972, 39506484461700]  \n",
      "70043 2022-03-13 14:11:41                   [39482337624196, 39544243650692]  \n",
      "70049 2022-03-13 14:12:09  [34415989325956, 33667297017988, 3948233762419...  \n",
      "70050 2022-03-13 14:12:10   [34284950519940, 39459281174660, 39482337558660]  \n",
      "\n",
      "[5457 rows x 4 columns]\n"
     ]
    }
   ],
   "source": [
    "#We start analysing abandoned_carts field by field.\n",
    "#It is noticeable how the majority of the elements of the dataframe are missing (we have \n",
    "# 5000 out of 70000), so the ideas extracted have to be taken with a pinch of salt. \n",
    "\n",
    "print(abandoned_carts)"
   ]
  },
  {
   "cell_type": "code",
   "execution_count": 51,
   "metadata": {},
   "outputs": [
    {
     "data": {
      "text/plain": [
       "id            5457\n",
       "user_id       5457\n",
       "created_at    5457\n",
       "variant_id    5457\n",
       "dtype: int64"
      ]
     },
     "execution_count": 51,
     "metadata": {},
     "output_type": "execute_result"
    }
   ],
   "source": [
    "#On a superficial level, there are no nulls, so we move forward\n",
    "\n",
    "abandoned_carts.isnull().count()"
   ]
  },
  {
   "cell_type": "code",
   "execution_count": 8,
   "metadata": {},
   "outputs": [
    {
     "name": "stdout",
     "output_type": "stream",
     "text": [
      "5457\n"
     ]
    }
   ],
   "source": [
    "#abandoned_carts id: unique id value for each order / purchase. \n",
    "\n",
    "ac_id_unique = set(abandoned_carts[\"id\"])\n",
    "print(len(ac_id)) #matches with rows read before"
   ]
  },
  {
   "cell_type": "code",
   "execution_count": 20,
   "metadata": {},
   "outputs": [
    {
     "name": "stdout",
     "output_type": "stream",
     "text": [
      "3439\n"
     ]
    }
   ],
   "source": [
    "#user id: unique id of the users that have abandoned a cart. \n",
    "#Column has duplicates, so some users have abandoned more than one cart. \n",
    "\n",
    "ac_user_id_unique = set(abandoned_carts[\"user_id\"])\n",
    "print(len(ac_user_id_unique))"
   ]
  },
  {
   "cell_type": "code",
   "execution_count": 47,
   "metadata": {},
   "outputs": [
    {
     "name": "stdout",
     "output_type": "stream",
     "text": [
      "{10: 1, 9: 1, 6: 6, 7: 8, 5: 23, 4: 51, 3: 238, 2: 1202, 1: 1909}\n"
     ]
    }
   ],
   "source": [
    "#Majority of users have abandoned 1 - 2 carts. The number of people abandoning carts reduces with the\n",
    "#frequency; not many of them abandon from 5 carts onwards. \n",
    "\n",
    "ac_user_id = Counter(abandoned_carts[\"user_id\"].tolist())\n",
    "ac_number_peruser=[]\n",
    "for key in ac_user_id:\n",
    "    ac_number_peruser.append(ac_user_id[key])\n",
    "ac_number_peruser=Counter(ac_number_peruser)\n",
    "ac_number_peruser=dict(sorted(ac_number_peruser.items(), key=lambda item: item[1]))\n",
    "print(ac_number_peruser)"
   ]
  },
  {
   "cell_type": "code",
   "execution_count": null,
   "metadata": {},
   "outputs": [],
   "source": []
  },
  {
   "cell_type": "code",
   "execution_count": 72,
   "metadata": {},
   "outputs": [
    {
     "data": {
      "text/html": [
       "<div>\n",
       "<style scoped>\n",
       "    .dataframe tbody tr th:only-of-type {\n",
       "        vertical-align: middle;\n",
       "    }\n",
       "\n",
       "    .dataframe tbody tr th {\n",
       "        vertical-align: top;\n",
       "    }\n",
       "\n",
       "    .dataframe thead th {\n",
       "        text-align: right;\n",
       "    }\n",
       "</style>\n",
       "<table border=\"1\" class=\"dataframe\">\n",
       "  <thead>\n",
       "    <tr style=\"text-align: right;\">\n",
       "      <th></th>\n",
       "      <th>Year</th>\n",
       "      <th>Month</th>\n",
       "      <th>Day</th>\n",
       "      <th>Hour</th>\n",
       "    </tr>\n",
       "  </thead>\n",
       "  <tbody>\n",
       "    <tr>\n",
       "      <th>0</th>\n",
       "      <td>2020</td>\n",
       "      <td>5</td>\n",
       "      <td>20</td>\n",
       "      <td>13</td>\n",
       "    </tr>\n",
       "    <tr>\n",
       "      <th>1</th>\n",
       "      <td>2021</td>\n",
       "      <td>6</td>\n",
       "      <td>27</td>\n",
       "      <td>5</td>\n",
       "    </tr>\n",
       "    <tr>\n",
       "      <th>2</th>\n",
       "      <td>2021</td>\n",
       "      <td>7</td>\n",
       "      <td>18</td>\n",
       "      <td>8</td>\n",
       "    </tr>\n",
       "    <tr>\n",
       "      <th>3</th>\n",
       "      <td>2021</td>\n",
       "      <td>7</td>\n",
       "      <td>18</td>\n",
       "      <td>21</td>\n",
       "    </tr>\n",
       "    <tr>\n",
       "      <th>4</th>\n",
       "      <td>2021</td>\n",
       "      <td>7</td>\n",
       "      <td>19</td>\n",
       "      <td>12</td>\n",
       "    </tr>\n",
       "    <tr>\n",
       "      <th>...</th>\n",
       "      <td>...</td>\n",
       "      <td>...</td>\n",
       "      <td>...</td>\n",
       "      <td>...</td>\n",
       "    </tr>\n",
       "    <tr>\n",
       "      <th>5452</th>\n",
       "      <td>2022</td>\n",
       "      <td>3</td>\n",
       "      <td>13</td>\n",
       "      <td>14</td>\n",
       "    </tr>\n",
       "    <tr>\n",
       "      <th>5453</th>\n",
       "      <td>2022</td>\n",
       "      <td>3</td>\n",
       "      <td>13</td>\n",
       "      <td>14</td>\n",
       "    </tr>\n",
       "    <tr>\n",
       "      <th>5454</th>\n",
       "      <td>2022</td>\n",
       "      <td>3</td>\n",
       "      <td>13</td>\n",
       "      <td>14</td>\n",
       "    </tr>\n",
       "    <tr>\n",
       "      <th>5455</th>\n",
       "      <td>2022</td>\n",
       "      <td>3</td>\n",
       "      <td>13</td>\n",
       "      <td>14</td>\n",
       "    </tr>\n",
       "    <tr>\n",
       "      <th>5456</th>\n",
       "      <td>2022</td>\n",
       "      <td>3</td>\n",
       "      <td>13</td>\n",
       "      <td>14</td>\n",
       "    </tr>\n",
       "  </tbody>\n",
       "</table>\n",
       "<p>5457 rows × 4 columns</p>\n",
       "</div>"
      ],
      "text/plain": [
       "      Year  Month  Day  Hour\n",
       "0     2020      5   20    13\n",
       "1     2021      6   27     5\n",
       "2     2021      7   18     8\n",
       "3     2021      7   18    21\n",
       "4     2021      7   19    12\n",
       "...    ...    ...  ...   ...\n",
       "5452  2022      3   13    14\n",
       "5453  2022      3   13    14\n",
       "5454  2022      3   13    14\n",
       "5455  2022      3   13    14\n",
       "5456  2022      3   13    14\n",
       "\n",
       "[5457 rows x 4 columns]"
      ]
     },
     "execution_count": 72,
     "metadata": {},
     "output_type": "execute_result"
    }
   ],
   "source": [
    "#created_at: when the basket was generated. We can perform some data aggrupations to see if there is\n",
    "#a seasonality on the cancellations, or if they were done during one specific year.\n",
    "\n",
    "created_at_date_separated = pd.DataFrame(columns=['Year','Month','Day','Hour'])\n",
    "for element in abandoned_carts[\"created_at\"]:\n",
    "    created_at_date_separated.loc[len(created_at_date_separated)]={'Year': element.year, 'Month':element.month,'Day':element.day,'Hour':element.hour}\n",
    "created_at_date_separated\n",
    "    "
   ]
  },
  {
   "cell_type": "code",
   "execution_count": 73,
   "metadata": {},
   "outputs": [
    {
     "name": "stdout",
     "output_type": "stream",
     "text": [
      "Year  Month\n",
      "2020  5           1\n",
      "2021  6           1\n",
      "      7          25\n",
      "      8         135\n",
      "      9         248\n",
      "      10        560\n",
      "      11        988\n",
      "      12        871\n",
      "2022  1        1318\n",
      "      2         989\n",
      "      3         321\n",
      "Name: Day, dtype: int64\n"
     ]
    }
   ],
   "source": [
    "#Somehow, the majority of the cancellations are accummulated during autumn-winter, whereas in \n",
    "#spring - summer there are the lowest numbers.\n",
    "\n",
    "print(created_at_date_separated.groupby(['Year','Month'])['Day'].count())\n"
   ]
  },
  {
   "cell_type": "code",
   "execution_count": 80,
   "metadata": {},
   "outputs": [
    {
     "data": {
      "text/plain": [
       "<BarContainer object of 31 artists>"
      ]
     },
     "execution_count": 80,
     "metadata": {},
     "output_type": "execute_result"
    },
    {
     "data": {
      "image/png": "[encoded data removed]",
      "text/plain": [
       "<Figure size 640x480 with 1 Axes>"
      ]
     },
     "metadata": {},
     "output_type": "display_data"
    }
   ],
   "source": [
    "#Except maybe from outlier 21st, all of the days the cancellation rate is similar\n",
    "\n",
    "plt.bar(range(1,32),created_at_date_separated.groupby(['Day'])['Month'].count())"
   ]
  },
  {
   "cell_type": "code",
   "execution_count": 81,
   "metadata": {},
   "outputs": [
    {
     "data": {
      "text/plain": [
       "<BarContainer object of 24 artists>"
      ]
     },
     "execution_count": 81,
     "metadata": {},
     "output_type": "execute_result"
    },
    {
     "data": {
      "image/png": "[encoded data removed]",
      "text/plain": [
       "<Figure size 640x480 with 1 Axes>"
      ]
     },
     "metadata": {},
     "output_type": "display_data"
    }
   ],
   "source": [
    "#The fact that not many baskets are cancelled at night implies how this service is not international,\n",
    "#kind of restricted to limited timezones. The peak hours of cancellations are the standard ones: first\n",
    "#thing in the morning (9.00), mid-morning (around 11.00) and first thing in the afternoon (15.00)\n",
    "\n",
    "plt.bar(range(1,25),created_at_date_separated.groupby(['Hour'])['Month'].count())"
   ]
  },
  {
   "cell_type": "code",
   "execution_count": 49,
   "metadata": {},
   "outputs": [],
   "source": [
    "#variant id: not entirely defined field by itself, but with inventory we discover that it is the id\n",
    "#of the product in the basket"
   ]
  },
  {
   "cell_type": "code",
   "execution_count": 4,
   "metadata": {},
   "outputs": [
    {
     "name": "stdout",
     "output_type": "stream",
     "text": [
      "          variant_id  price  compare_at_price          vendor  \\\n",
      "0     39587297165444   3.09              3.15           heinz   \n",
      "1     34370361229444   4.99              5.50   whogivesacrap   \n",
      "2     34284951863428   3.69              3.99          plenty   \n",
      "3     33667283583108   1.79              1.99  thecheekypanda   \n",
      "4     33803537973380   1.99              2.09         colgate   \n",
      "...              ...    ...               ...             ...   \n",
      "1728  39539419218052   4.99              5.99          bother   \n",
      "1729  34534187368580   4.69              5.49    tommeetippee   \n",
      "1730  33826439594116  15.39             17.15          colief   \n",
      "1731  33667214508164  19.49             21.65      enterosgel   \n",
      "1732  33667214704772  31.99             34.60         eskimo3   \n",
      "\n",
      "                         product_type  \\\n",
      "0                condiments-dressings   \n",
      "1     toilet-roll-kitchen-roll-tissue   \n",
      "2     toilet-roll-kitchen-roll-tissue   \n",
      "3     toilet-roll-kitchen-roll-tissue   \n",
      "4                              dental   \n",
      "...                               ...   \n",
      "1728                                    \n",
      "1729                 baby-accessories   \n",
      "1730                 baby-accessories   \n",
      "1731             medicines-treatments   \n",
      "1732           superfoods-supplements   \n",
      "\n",
      "                                            tags  \n",
      "0                          [table-sauces, vegan]  \n",
      "1                    [b-corp, eco, toilet-rolls]  \n",
      "2                                 [kitchen-roll]  \n",
      "3     [b-corp, cruelty-free, eco, tissue, vegan]  \n",
      "4                           [dental-accessories]  \n",
      "...                                          ...  \n",
      "1728                        [household-sundries]  \n",
      "1729                           [feeding-weaning]  \n",
      "1730                           [feeding-weaning]  \n",
      "1731                    [discontinue, first-aid]  \n",
      "1732         [discontinue, vitamins-supplements]  \n",
      "\n",
      "[1733 rows x 6 columns]\n"
     ]
    }
   ],
   "source": [
    "print(inventory)"
   ]
  },
  {
   "cell_type": "code",
   "execution_count": null,
   "metadata": {},
   "outputs": [],
   "source": [
    "#Stuff to study:\n",
    "#- Do the buyers that have abandoned a cart bought another order, or do they never even consider\n",
    "#buying something again? -> Improvement quality\n",
    "\n",
    "#Maybe they are people that started the order and never\n",
    "#finished it. Maybe they are already users that had to cancel an order. Maybe that low number of \n",
    "#people with more orders rejected (7 onwards) are habitual clients that as they do many orders they \n",
    "#sometimes do errors and have to cancel more often..."
   ]
  }
 ],
 "metadata": {
  "kernelspec": {
   "display_name": ".venv",
   "language": "python",
   "name": "python3"
  },
  "language_info": {
   "codemirror_mode": {
    "name": "ipython",
    "version": 3
   },
   "file_extension": ".py",
   "mimetype": "text/x-python",
   "name": "python",
   "nbconvert_exporter": "python",
   "pygments_lexer": "ipython3",
   "version": "3.11.5"
  }
 },
 "nbformat": 4,
 "nbformat_minor": 2
}

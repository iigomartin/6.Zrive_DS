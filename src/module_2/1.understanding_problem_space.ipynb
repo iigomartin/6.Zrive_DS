{
 "cells": [
  {
   "cell_type": "markdown",
   "metadata": {},
   "source": [
    "# 1.Understanding Problem Space"
   ]
  },
  {
   "cell_type": "code",
   "execution_count": 6,
   "metadata": {},
   "outputs": [],
   "source": [
    "import pandas as pd\n",
    "from io import BytesIO"
   ]
  },
  {
   "cell_type": "code",
   "execution_count": 8,
   "metadata": {},
   "outputs": [
    {
     "name": "stdout",
     "output_type": "stream",
     "text": [
      "                   id                                            user_id  \\\n",
      "0      12858560217220  5c4e5953f13ddc3bc9659a3453356155e5efe4739d7a2b...   \n",
      "13     20352449839236  9d6187545c005d39e44d0456d87790db18611d7c7379bd...   \n",
      "45     20478401413252  e83fb0273d70c37a2968fee107113698fd4f389c442c0b...   \n",
      "50     20481783103620  10c42e10e530284b7c7c50f3a23a98726d5747b8128084...   \n",
      "52     20485321687172  d9989439524b3f6fc4f41686d043f315fb408b954d6153...   \n",
      "...               ...                                                ...   \n",
      "70036  22233840976004  2e989bfdec87ef55ea464a529f323ff53dad2a2fc48655...   \n",
      "70041  22233843171460  b2d867b982b14ca517f27c4ced727c8a25c01b96ebbd96...   \n",
      "70043  22233843531908  220aafc0749f209b3f0f7cfe4134a5136815d48f0bbd9a...   \n",
      "70049  22233846218884  a4da55d51052411e54f98e1b90b19843121866abeaea76...   \n",
      "70050  22233846317188  c0e740ecabe7bd19eaed35b5ea9be7bc80c15f32124712...   \n",
      "\n",
      "               created_at                                         variant_id  \n",
      "0     2020-05-20 13:53:24  [33826459287684, 33826457616516, 3366719212762...  \n",
      "13    2021-06-27 05:24:13  [34415988179076, 34037940158596, 3450282236326...  \n",
      "45    2021-07-18 08:23:49  [34543001337988, 34037939372164, 3411360609088...  \n",
      "50    2021-07-18 21:29:36  [33667268116612, 34037940224132, 3443605520397...  \n",
      "52    2021-07-19 12:17:05   [33667268083844, 34284950454404, 33973246886020]  \n",
      "...                   ...                                                ...  \n",
      "70036 2022-03-13 14:11:15                   [34284950192260, 39466620911748]  \n",
      "70041 2022-03-13 14:11:36                   [39536607395972, 39506484461700]  \n",
      "70043 2022-03-13 14:11:41                   [39482337624196, 39544243650692]  \n",
      "70049 2022-03-13 14:12:09  [34415989325956, 33667297017988, 3948233762419...  \n",
      "70050 2022-03-13 14:12:10   [34284950519940, 39459281174660, 39482337558660]  \n",
      "\n",
      "[5457 rows x 4 columns]\n"
     ]
    }
   ],
   "source": [
    "abandoned_carts = pd.read_parquet(\"abandoned_carts.parquet\")\n",
    "inventory = pd.read_parquet(\"inventory.parquet\")\n",
    "orders = pd.read_parquet(\"orders.parquet\")\n",
    "regulars = pd.read_parquet(\"regulars.parquet\")\n",
    "users = pd.read_parquet(\"users.parquet\")"
   ]
  },
  {
   "cell_type": "code",
   "execution_count": null,
   "metadata": {},
   "outputs": [],
   "source": []
  },
  {
   "cell_type": "code",
   "execution_count": null,
   "metadata": {},
   "outputs": [],
   "source": []
  }
 ],
 "metadata": {
  "kernelspec": {
   "display_name": ".venv",
   "language": "python",
   "name": "python3"
  },
  "language_info": {
   "codemirror_mode": {
    "name": "ipython",
    "version": 3
   },
   "file_extension": ".py",
   "mimetype": "text/x-python",
   "name": "python",
   "nbconvert_exporter": "python",
   "pygments_lexer": "ipython3",
   "version": "3.11.5"
  }
 },
 "nbformat": 4,
 "nbformat_minor": 2
}
